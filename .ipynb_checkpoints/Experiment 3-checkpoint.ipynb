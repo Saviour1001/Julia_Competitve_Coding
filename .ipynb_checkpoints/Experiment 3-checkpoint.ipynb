{
 "cells": [
  {
   "cell_type": "code",
   "execution_count": 5,
   "metadata": {},
   "outputs": [
    {
     "data": {
      "text/plain": [
       "subsequence (generic function with 1 method)"
      ]
     },
     "execution_count": 5,
     "metadata": {},
     "output_type": "execute_result"
    }
   ],
   "source": [
    "function subsequence(s,ans)\n",
    "    if(length(s)==0)\n",
    "        if(length(ans)>=1)\n",
    "            println(ans)\n",
    "        end\n",
    "        return\n",
    "    end\n",
    "    ch=s[1]\n",
    "    rest_of_string=SubString(s,2)\n",
    "    subsequence(rest_of_string,ans)\n",
    "    subsequence(rest_of_string,ans*ch)\n",
    "end\n",
    "    "
   ]
  },
  {
   "cell_type": "code",
   "execution_count": 6,
   "metadata": {},
   "outputs": [
    {
     "name": "stdout",
     "output_type": "stream",
     "text": [
      "stdin> abc\n",
      "c\n",
      "b\n",
      "bc\n",
      "a\n",
      "ac\n",
      "ab\n",
      "abc\n"
     ]
    }
   ],
   "source": [
    "s=readline()\n",
    "subsequence(s,\"\")"
   ]
  },
  {
   "cell_type": "markdown",
   "metadata": {},
   "source": [
    "## Subsets of an Array \n"
   ]
  },
  {
   "cell_type": "code",
   "execution_count": 41,
   "metadata": {},
   "outputs": [
    {
     "data": {
      "text/plain": [
       "subsets (generic function with 1 method)"
      ]
     },
     "execution_count": 41,
     "metadata": {},
     "output_type": "execute_result"
    }
   ],
   "source": [
    "function subsets(array,n)\n",
    "    powerSet = Set()\n",
    "    for i in 1:(1<<n)\n",
    "        s= \"\"\n",
    "        for j in 1:n\n",
    "            if(i & (1<<j) > 0)\n",
    "                temp=string(array[j])\n",
    "                s *= temp\n",
    "            end\n",
    "        end\n",
    "        if(length(s)>0)\n",
    "            println(s)\n",
    "        end\n",
    "       \n",
    "    end\n",
    "    \n",
    "end\n",
    "            "
   ]
  },
  {
   "cell_type": "code",
   "execution_count": 2,
   "metadata": {},
   "outputs": [
    {
     "name": "stdout",
     "output_type": "stream",
     "text": [
      "Enter the length of array \n",
      "stdin> 5\n",
      "Enter the elements of array \n",
      "stdin> 1\n",
      "stdin> 2\n",
      "stdin> 3\n",
      "stdin> 4\n",
      "stdin> 5\n"
     ]
    }
   ],
   "source": [
    "println(\"Enter the length of array \")\n",
    "n=readline()\n",
    "n=parse(Int64,n)\n",
    "println(\"Enter the elements of array \")\n",
    "array=Int64[]\n",
    "for i in 1:n\n",
    "    temp=readline()\n",
    "    temp=parse(Int64,temp)\n",
    "    push!(array,temp)\n",
    "end"
   ]
  },
  {
   "cell_type": "code",
   "execution_count": 43,
   "metadata": {},
   "outputs": [
    {
     "name": "stdout",
     "output_type": "stream",
     "text": [
      "124\n",
      "234\n",
      "2\n",
      "1234\n",
      "134\n",
      "34\n",
      "24\n",
      "4\n",
      "123\n",
      "3\n",
      "5\n",
      "23\n",
      "13\n",
      "14\n",
      "12\n",
      "1\n"
     ]
    }
   ],
   "source": [
    "subsets(array,n)"
   ]
  },
  {
   "cell_type": "code",
   "execution_count": 16,
   "metadata": {},
   "outputs": [
    {
     "name": "stdout",
     "output_type": "stream",
     "text": [
      "0\n"
     ]
    }
   ],
   "source": [
    "println(1 & 1<<6)"
   ]
  },
  {
   "cell_type": "markdown",
   "metadata": {},
   "source": [
    "## Finding the missing positive number in an array\n"
   ]
  },
  {
   "cell_type": "code",
   "execution_count": 46,
   "metadata": {},
   "outputs": [
    {
     "ename": "LoadError",
     "evalue": "MethodError: no method matching xor(::Array{Int64,1})\nClosest candidates are:\n  xor(::Any, !Matched::Any, !Matched::Any, !Matched::Any...) at operators.jl:538\n  xor(!Matched::BigInt, !Matched::BigInt, !Matched::BigInt, !Matched::BigInt, !Matched::BigInt) at gmp.jl:518\n  xor(!Matched::BigInt, !Matched::BigInt, !Matched::BigInt, !Matched::BigInt) at gmp.jl:517\n  ...",
     "output_type": "error",
     "traceback": [
      "MethodError: no method matching xor(::Array{Int64,1})\nClosest candidates are:\n  xor(::Any, !Matched::Any, !Matched::Any, !Matched::Any...) at operators.jl:538\n  xor(!Matched::BigInt, !Matched::BigInt, !Matched::BigInt, !Matched::BigInt, !Matched::BigInt) at gmp.jl:518\n  xor(!Matched::BigInt, !Matched::BigInt, !Matched::BigInt, !Matched::BigInt) at gmp.jl:517\n  ...",
      "",
      "Stacktrace:",
      " [1] top-level scope at In[46]:1",
      " [2] include_string(::Function, ::Module, ::String, ::String) at .\\loading.jl:1091"
     ]
    }
   ],
   "source": [
    "function uniqueNumber(array,n)\n",
    "    "
   ]
  },
  {
   "cell_type": "markdown",
   "metadata": {},
   "source": [
    "## Counting 1s in Binary Representation \n"
   ]
  },
  {
   "cell_type": "code",
   "execution_count": 6,
   "metadata": {},
   "outputs": [
    {
     "data": {
      "text/plain": [
       "counter (generic function with 1 method)"
      ]
     },
     "execution_count": 6,
     "metadata": {},
     "output_type": "execute_result"
    }
   ],
   "source": [
    "function counter(n)\n",
    "    count = 0\n",
    "    while (n > 0)\n",
    "        n = n & (n - 1)\n",
    "        ##println(n)\n",
    "        count += 1\n",
    "    end\n",
    "    return count\n",
    "end"
   ]
  },
  {
   "cell_type": "code",
   "execution_count": 7,
   "metadata": {},
   "outputs": [
    {
     "name": "stdout",
     "output_type": "stream",
     "text": [
      "Enter the number stdin> 5\n",
      "\n",
      "The number of 1s in the binary representation are "
     ]
    },
    {
     "data": {
      "text/plain": [
       "2"
      ]
     },
     "execution_count": 7,
     "metadata": {},
     "output_type": "execute_result"
    }
   ],
   "source": [
    "## Input\n",
    "print(\"Enter the number \")\n",
    "n = readline()\n",
    "n = parse(Int64, n)\n",
    "print(\"\\nThe number of 1s in the binary representation are \")\n",
    "\n",
    "## Calling the function \n",
    "\n",
    "counter(n)"
   ]
  },
  {
   "cell_type": "code",
   "execution_count": 8,
   "metadata": {},
   "outputs": [
    {
     "ename": "LoadError",
     "evalue": "\u001b[91msyntax: use \"elseif\" instead of \"else if\"\u001b[39m",
     "output_type": "error",
     "traceback": [
      "\u001b[91msyntax: use \"elseif\" instead of \"else if\"\u001b[39m",
      "",
      "Stacktrace:",
      " [1] top-level scope at In[8]:13",
      " [2] include_string(::Function, ::Module, ::String, ::String) at .\\loading.jl:1091"
     ]
    }
   ],
   "source": [
    "function sort(array,n)\n",
    "    low = 0\n",
    "    high=n-1\n",
    "    mid=0\n",
    "    temp\n",
    "    while(mid<=high)\n",
    "        if(arr[mid]==0)\n",
    "            temp=arr[mid]\n",
    "            arr[mid]=arr[low]\n",
    "            arr[low]=temp\n",
    "            mid+=1\n",
    "            low+=1\n",
    "        elseif(arr[mid]==1)\n",
    "                mid+=1\n",
    "        else\n",
    "            temp=arr[mid]\n",
    "            arr[mid]=arr[high]\n",
    "            arr[high]=temp\n",
    "            high-=1\n",
    "            end\n",
    "        end\n",
    "return array\n",
    "    end\n",
    "                "
   ]
  },
  {
   "cell_type": "code",
   "execution_count": null,
   "metadata": {},
   "outputs": [],
   "source": []
  }
 ],
 "metadata": {
  "kernelspec": {
   "display_name": "Julia 1.5.3",
   "language": "julia",
   "name": "julia-1.5"
  },
  "language_info": {
   "file_extension": ".jl",
   "mimetype": "application/julia",
   "name": "julia",
   "version": "1.5.3"
  }
 },
 "nbformat": 4,
 "nbformat_minor": 4
}
