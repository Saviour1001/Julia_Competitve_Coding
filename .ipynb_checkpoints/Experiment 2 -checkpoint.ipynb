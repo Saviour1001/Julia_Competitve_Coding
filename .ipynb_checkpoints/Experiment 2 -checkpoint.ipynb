{
 "cells": [
  {
   "cell_type": "code",
   "execution_count": 1,
   "metadata": {},
   "outputs": [
    {
     "data": {
      "text/plain": [
       "knapsack (generic function with 1 method)"
      ]
     },
     "execution_count": 1,
     "metadata": {},
     "output_type": "execute_result"
    }
   ],
   "source": [
    "function knapsack(weights,values,items,capacity)\n",
    "    if(items==0 || capacity==0)\n",
    "        return 0\n",
    "    end\n",
    "    if(weights[items]>capacity)\n",
    "        return knapsack(weights,values,items-1,capacity)\n",
    "    end\n",
    "    return max(knapsack(weights,values,items-1,capacity-weights[items])+values[items],knapsack(weights,values,items-1,capacity))\n",
    "end"
   ]
  },
  {
   "cell_type": "code",
   "execution_count": 2,
   "metadata": {},
   "outputs": [
    {
     "data": {
      "text/plain": [
       "3-element Array{Int64,1}:\n",
       " 10\n",
       " 20\n",
       " 30"
      ]
     },
     "execution_count": 2,
     "metadata": {},
     "output_type": "execute_result"
    }
   ],
   "source": [
    "weights=[10,20,30]"
   ]
  },
  {
   "cell_type": "code",
   "execution_count": 4,
   "metadata": {},
   "outputs": [
    {
     "data": {
      "text/plain": [
       "3"
      ]
     },
     "execution_count": 4,
     "metadata": {},
     "output_type": "execute_result"
    }
   ],
   "source": [
    "values=[60,100,120]\n",
    "capacity=50\n",
    "items=3"
   ]
  },
  {
   "cell_type": "code",
   "execution_count": 5,
   "metadata": {},
   "outputs": [
    {
     "data": {
      "text/plain": [
       "220"
      ]
     },
     "execution_count": 5,
     "metadata": {},
     "output_type": "execute_result"
    }
   ],
   "source": [
    "knapsack(weights,values,items,capacity)"
   ]
  },
  {
   "cell_type": "code",
   "execution_count": 1,
   "metadata": {},
   "outputs": [
    {
     "name": "stdout",
     "output_type": "stream",
     "text": [
      "Hi"
     ]
    }
   ],
   "source": [
    "print(\"Hi\")"
   ]
  },
  {
   "cell_type": "markdown",
   "metadata": {},
   "source": [
    "# Knap Sack 1/0"
   ]
  },
  {
   "cell_type": "code",
   "execution_count": 2,
   "metadata": {},
   "outputs": [
    {
     "name": "stdout",
     "output_type": "stream",
     "text": [
      "Enter the number of items\n",
      "stdin> 3\n",
      "Enter the capacity of the knapsack\n",
      "stdin> 50\n",
      "Enter the values of each item\n",
      "stdin> 60\n",
      "stdin> 100\n",
      "stdin> 120\n",
      "Enter the weights of each item\n",
      "stdin> 10\n",
      "stdin> 20\n",
      "stdin> 30\n",
      "220"
     ]
    }
   ],
   "source": [
    "function knapsack(weights, values, items, capacity)\n",
    "    if (items == 0 || capacity == 0)\n",
    "        return 0\n",
    "    end\n",
    "    if (weights[items] > capacity)\n",
    "        return knapsack(weights, values, items - 1, capacity)\n",
    "    end\n",
    "    return max(\n",
    "        knapsack(weights, values, items - 1, capacity - weights[items]) + values[items],\n",
    "        knapsack(weights, values, items - 1, capacity),\n",
    "    )\n",
    "end\n",
    "\n",
    "println(\"Enter the number of items\")\n",
    "n = readline()\n",
    "n = parse(Int64, n)\n",
    "println(\"Enter the capacity of the knapsack\")\n",
    "w = readline()\n",
    "w = parse(Int64, w)\n",
    "values = Int64[]\n",
    "println(\"Enter the values of each item\")\n",
    "for i = 1:n\n",
    "    temp = readline()\n",
    "    temp = parse(Int64, temp)\n",
    "    push!(values, temp)\n",
    "end\n",
    "weights = Int64[]\n",
    "println(\"Enter the weights of each item\")\n",
    "for i = 1:n\n",
    "    temp = readline()\n",
    "    temp = parse(Int64, temp)\n",
    "    push!(weights, temp)\n",
    "end\n",
    "print(knapsack(weights, values, n, w))\n",
    "\n"
   ]
  },
  {
   "cell_type": "markdown",
   "metadata": {},
   "source": [
    "# Rainwater trapping"
   ]
  },
  {
   "cell_type": "code",
   "execution_count": 4,
   "metadata": {},
   "outputs": [
    {
     "name": "stdout",
     "output_type": "stream",
     "text": [
      "Enter the length of array!\n",
      "stdin> 3\n",
      "Enter the array !\n",
      "stdin> 2\n",
      "stdin> 0\n",
      "stdin> 2\n"
     ]
    }
   ],
   "source": [
    "println(\"Enter the length of array!\")\n",
    "n = readline()\n",
    "n = parse(Int64,n)\n",
    "array = Int64[]\n",
    "println(\"Enter the array !\")\n",
    "for i in 1:n\n",
    "    temp=readline()\n",
    "    temp=parse(Int64,temp)\n",
    "    push!(array,temp)\n",
    "end"
   ]
  },
  {
   "cell_type": "code",
   "execution_count": 48,
   "metadata": {
    "scrolled": true
   },
   "outputs": [
    {
     "data": {
      "text/plain": [
       "rainWater (generic function with 1 method)"
      ]
     },
     "execution_count": 48,
     "metadata": {},
     "output_type": "execute_result"
    }
   ],
   "source": [
    "function rainWater(n,array)\n",
    "    left=zeros(n)\n",
    "left[1]=array[1]\n",
    "for i in 2:n\n",
    "    left[i]=max(left[i-1],array[i])\n",
    "end\n",
    "right=zeros(n)\n",
    "right[n]=array[n]\n",
    "for i in n-1:-1:1\n",
    "    right[i]=max(right[i+1],array[i])\n",
    "end\n",
    "total=0\n",
    "for i in 1:n\n",
    "    total+=min(left[i],right[i])-array[i]\n",
    "end\n",
    "return total\n",
    "end\n"
   ]
  },
  {
   "cell_type": "code",
   "execution_count": 49,
   "metadata": {},
   "outputs": [
    {
     "data": {
      "text/plain": [
       "3-element Array{Int64,1}:\n",
       " 2\n",
       " 0\n",
       " 2"
      ]
     },
     "execution_count": 49,
     "metadata": {},
     "output_type": "execute_result"
    }
   ],
   "source": [
    "array"
   ]
  },
  {
   "cell_type": "code",
   "execution_count": 47,
   "metadata": {},
   "outputs": [
    {
     "data": {
      "text/plain": [
       "2.0"
      ]
     },
     "execution_count": 47,
     "metadata": {},
     "output_type": "execute_result"
    }
   ],
   "source": [
    "left=zeros(n)\n",
    "left[1]=array[1]\n",
    "for i in 2:n\n",
    "    left[i]=max(left[i-1],array[i])\n",
    "end\n",
    "right=zeros(n)\n",
    "right[n]=array[n]\n",
    "for i in n-1:-1:1\n",
    "    right[i]=max(right[i+1],array[i])\n",
    "end\n",
    "total=0\n",
    "for i in 1:n\n",
    "    total+=min(left[i],right[i])-array[i]\n",
    "end\n",
    "total"
   ]
  },
  {
   "cell_type": "code",
   "execution_count": 46,
   "metadata": {},
   "outputs": [
    {
     "name": "stdout",
     "output_type": "stream",
     "text": [
      "[2.0, 2.0, 2.0][2.0, 2.0, 2.0]"
     ]
    }
   ],
   "source": [
    "print(left)\n",
    "print(right)"
   ]
  },
  {
   "cell_type": "code",
   "execution_count": 50,
   "metadata": {},
   "outputs": [
    {
     "data": {
      "text/plain": [
       "2.0"
      ]
     },
     "execution_count": 50,
     "metadata": {},
     "output_type": "execute_result"
    }
   ],
   "source": [
    "rainWater(n,array)"
   ]
  },
  {
   "cell_type": "markdown",
   "metadata": {},
   "source": [
    "# Tower of Hanoi"
   ]
  },
  {
   "cell_type": "code",
   "execution_count": 61,
   "metadata": {},
   "outputs": [
    {
     "data": {
      "text/plain": [
       "towerOfHanoi (generic function with 1 method)"
      ]
     },
     "execution_count": 61,
     "metadata": {},
     "output_type": "execute_result"
    }
   ],
   "source": [
    "function towerOfHanoi(discs,source,destination,helper)\n",
    "    if(discs==0)\n",
    "        return \n",
    "    end\n",
    "    towerOfHanoi(discs-1,source,helper,destination)\n",
    "    println(\"Move from $(source) to $(destination)\")\n",
    "    towerOfHanoi(discs-1,helper,destination,source)\n",
    "end"
   ]
  },
  {
   "cell_type": "code",
   "execution_count": 62,
   "metadata": {},
   "outputs": [
    {
     "name": "stdout",
     "output_type": "stream",
     "text": [
      "Move from A to B\n",
      "Move from A to C\n",
      "Move from B to C\n",
      "Move from A to B\n",
      "Move from C to A\n",
      "Move from C to B\n",
      "Move from A to B\n"
     ]
    }
   ],
   "source": [
    "towerOfHanoi(3,\"A\",\"B\",\"C\")"
   ]
  },
  {
   "cell_type": "code",
   "execution_count": null,
   "metadata": {},
   "outputs": [],
   "source": []
  }
 ],
 "metadata": {
  "kernelspec": {
   "display_name": "Julia 1.5.3",
   "language": "julia",
   "name": "julia-1.5"
  },
  "language_info": {
   "file_extension": ".jl",
   "mimetype": "application/julia",
   "name": "julia",
   "version": "1.5.3"
  }
 },
 "nbformat": 4,
 "nbformat_minor": 4
}
