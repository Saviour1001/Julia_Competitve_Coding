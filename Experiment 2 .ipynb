{
 "cells": [
  {
   "cell_type": "code",
   "execution_count": 1,
   "metadata": {},
   "outputs": [
    {
     "data": {
      "text/plain": [
       "knapsack (generic function with 1 method)"
      ]
     },
     "execution_count": 1,
     "metadata": {},
     "output_type": "execute_result"
    }
   ],
   "source": [
    "function knapsack(weights,values,items,capacity)\n",
    "    if(items==0 || capacity==0)\n",
    "        return 0\n",
    "    end\n",
    "    if(weights[items]>capacity)\n",
    "        return knapsack(weights,values,items-1,capacity)\n",
    "    end\n",
    "    return max(knapsack(weights,values,items-1,capacity-weights[items])+values[items],knapsack(weights,values,items-1,capacity))\n",
    "end"
   ]
  },
  {
   "cell_type": "code",
   "execution_count": 2,
   "metadata": {},
   "outputs": [
    {
     "data": {
      "text/plain": [
       "3-element Array{Int64,1}:\n",
       " 10\n",
       " 20\n",
       " 30"
      ]
     },
     "execution_count": 2,
     "metadata": {},
     "output_type": "execute_result"
    }
   ],
   "source": [
    "weights=[10,20,30]"
   ]
  },
  {
   "cell_type": "code",
   "execution_count": 4,
   "metadata": {},
   "outputs": [
    {
     "data": {
      "text/plain": [
       "3"
      ]
     },
     "execution_count": 4,
     "metadata": {},
     "output_type": "execute_result"
    }
   ],
   "source": [
    "values=[60,100,120]\n",
    "capacity=50\n",
    "items=3"
   ]
  },
  {
   "cell_type": "code",
   "execution_count": 5,
   "metadata": {},
   "outputs": [
    {
     "data": {
      "text/plain": [
       "220"
      ]
     },
     "execution_count": 5,
     "metadata": {},
     "output_type": "execute_result"
    }
   ],
   "source": [
    "knapsack(weights,values,items,capacity)"
   ]
  },
  {
   "cell_type": "code",
   "execution_count": 1,
   "metadata": {},
   "outputs": [
    {
     "name": "stdout",
     "output_type": "stream",
     "text": [
      "Hi"
     ]
    }
   ],
   "source": [
    "print(\"Hi\")"
   ]
  },
  {
   "cell_type": "code",
   "execution_count": 2,
   "metadata": {},
   "outputs": [
    {
     "name": "stdout",
     "output_type": "stream",
     "text": [
      "Enter the number of items\n",
      "stdin> 3\n",
      "Enter the capacity of the knapsack\n",
      "stdin> 50\n",
      "Enter the values of each item\n",
      "stdin> 60\n",
      "stdin> 100\n",
      "stdin> 120\n",
      "Enter the weights of each item\n",
      "stdin> 10\n",
      "stdin> 20\n",
      "stdin> 30\n",
      "220"
     ]
    }
   ],
   "source": [
    "function knapsack(weights, values, items, capacity)\n",
    "    if (items == 0 || capacity == 0)\n",
    "        return 0\n",
    "    end\n",
    "    if (weights[items] > capacity)\n",
    "        return knapsack(weights, values, items - 1, capacity)\n",
    "    end\n",
    "    return max(\n",
    "        knapsack(weights, values, items - 1, capacity - weights[items]) + values[items],\n",
    "        knapsack(weights, values, items - 1, capacity),\n",
    "    )\n",
    "end\n",
    "\n",
    "println(\"Enter the number of items\")\n",
    "n = readline()\n",
    "n = parse(Int64, n)\n",
    "println(\"Enter the capacity of the knapsack\")\n",
    "w = readline()\n",
    "w = parse(Int64, w)\n",
    "values = Int64[]\n",
    "println(\"Enter the values of each item\")\n",
    "for i = 1:n\n",
    "    temp = readline()\n",
    "    temp = parse(Int64, temp)\n",
    "    push!(values, temp)\n",
    "end\n",
    "weights = Int64[]\n",
    "println(\"Enter the weights of each item\")\n",
    "for i = 1:n\n",
    "    temp = readline()\n",
    "    temp = parse(Int64, temp)\n",
    "    push!(weights, temp)\n",
    "end\n",
    "print(knapsack(weights, values, n, w))\n",
    "\n"
   ]
  },
  {
   "cell_type": "code",
   "execution_count": 3,
   "metadata": {},
   "outputs": [
    {
     "name": "stdout",
     "output_type": "stream",
     "text": [
      "Enter the length of array!\n",
      "stdin> 5\n",
      "Enter the array !\n",
      "stdin> 1\n",
      "stdin> 2\n",
      "stdin> 3\n",
      "stdin> 46\n",
      "stdin> 5\n"
     ]
    },
    {
     "ename": "LoadError",
     "evalue": "BoundsError: attempt to access 5-element Array{Int64,1} at index [0]",
     "output_type": "error",
     "traceback": [
      "BoundsError: attempt to access 5-element Array{Int64,1} at index [0]",
      "",
      "Stacktrace:",
      " [1] getindex(::Array{Int64,1}, ::Int64) at .\\array.jl:809",
      " [2] top-level scope at In[3]:12",
      " [3] include_string(::Function, ::Module, ::String, ::String) at .\\loading.jl:1091"
     ]
    }
   ],
   "source": [
    "println(\"Enter the length of array!\")\n",
    "n = readline()\n",
    "n = parse(Int64,n)\n",
    "array = Int64[]\n",
    "println(\"Enter the array !\")\n",
    "for i in 1:n\n",
    "    temp=readline()\n",
    "    temp=parse(Int64,temp)\n",
    "    push!(array,temp)\n",
    "end\n",
    "left = Array{Int64,n}\n",
    "\n"
   ]
  },
  {
   "cell_type": "code",
   "execution_count": null,
   "metadata": {},
   "outputs": [],
   "source": []
  }
 ],
 "metadata": {
  "kernelspec": {
   "display_name": "Julia 1.5.3",
   "language": "julia",
   "name": "julia-1.5"
  },
  "language_info": {
   "file_extension": ".jl",
   "mimetype": "application/julia",
   "name": "julia",
   "version": "1.5.3"
  }
 },
 "nbformat": 4,
 "nbformat_minor": 4
}
