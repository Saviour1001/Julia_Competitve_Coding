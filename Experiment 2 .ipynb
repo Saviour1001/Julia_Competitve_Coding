{
 "cells": [
  {
   "cell_type": "code",
   "execution_count": 1,
   "metadata": {},
   "outputs": [
    {
     "data": {
      "text/plain": [
       "knapsack (generic function with 1 method)"
      ]
     },
     "execution_count": 1,
     "metadata": {},
     "output_type": "execute_result"
    }
   ],
   "source": [
    "function knapsack(weights,values,items,capacity)\n",
    "    if(items==0 || capacity==0)\n",
    "        return 0\n",
    "    end\n",
    "    if(weights[items]>capacity)\n",
    "        return knapsack(weights,values,items-1,capacity)\n",
    "    end\n",
    "    return max(knapsack(weights,values,items-1,capacity-weights[items])+values[items],knapsack(weights,values,items-1,capacity))\n",
    "end"
   ]
  },
  {
   "cell_type": "code",
   "execution_count": 2,
   "metadata": {},
   "outputs": [
    {
     "data": {
      "text/plain": [
       "3-element Array{Int64,1}:\n",
       " 10\n",
       " 20\n",
       " 30"
      ]
     },
     "execution_count": 2,
     "metadata": {},
     "output_type": "execute_result"
    }
   ],
   "source": [
    "weights=[10,20,30]"
   ]
  },
  {
   "cell_type": "code",
   "execution_count": 4,
   "metadata": {},
   "outputs": [
    {
     "data": {
      "text/plain": [
       "3"
      ]
     },
     "execution_count": 4,
     "metadata": {},
     "output_type": "execute_result"
    }
   ],
   "source": [
    "values=[60,100,120]\n",
    "capacity=50\n",
    "items=3"
   ]
  },
  {
   "cell_type": "code",
   "execution_count": 5,
   "metadata": {},
   "outputs": [
    {
     "data": {
      "text/plain": [
       "220"
      ]
     },
     "execution_count": 5,
     "metadata": {},
     "output_type": "execute_result"
    }
   ],
   "source": [
    "knapsack(weights,values,items,capacity)"
   ]
  },
  {
   "cell_type": "code",
   "execution_count": 1,
   "metadata": {},
   "outputs": [
    {
     "name": "stdout",
     "output_type": "stream",
     "text": [
      "Hi"
     ]
    }
   ],
   "source": [
    "print(\"Hi\")"
   ]
  },
  {
   "cell_type": "markdown",
   "metadata": {},
   "source": [
    "# Knap Sack 1/0"
   ]
  },
  {
   "cell_type": "code",
   "execution_count": 2,
   "metadata": {},
   "outputs": [
    {
     "name": "stdout",
     "output_type": "stream",
     "text": [
      "Enter the number of items\n",
      "stdin> 3\n",
      "Enter the capacity of the knapsack\n",
      "stdin> 50\n",
      "Enter the values of each item\n",
      "stdin> 60\n",
      "stdin> 100\n",
      "stdin> 120\n",
      "Enter the weights of each item\n",
      "stdin> 10\n",
      "stdin> 20\n",
      "stdin> 30\n",
      "220"
     ]
    }
   ],
   "source": [
    "function knapsack(weights, values, items, capacity)\n",
    "    if (items == 0 || capacity == 0)\n",
    "        return 0\n",
    "    end\n",
    "    if (weights[items] > capacity)\n",
    "        return knapsack(weights, values, items - 1, capacity)\n",
    "    end\n",
    "    return max(\n",
    "        knapsack(weights, values, items - 1, capacity - weights[items]) + values[items],\n",
    "        knapsack(weights, values, items - 1, capacity),\n",
    "    )\n",
    "end\n",
    "\n",
    "println(\"Enter the number of items\")\n",
    "n = readline()\n",
    "n = parse(Int64, n)\n",
    "println(\"Enter the capacity of the knapsack\")\n",
    "w = readline()\n",
    "w = parse(Int64, w)\n",
    "values = Int64[]\n",
    "println(\"Enter the values of each item\")\n",
    "for i = 1:n\n",
    "    temp = readline()\n",
    "    temp = parse(Int64, temp)\n",
    "    push!(values, temp)\n",
    "end\n",
    "weights = Int64[]\n",
    "println(\"Enter the weights of each item\")\n",
    "for i = 1:n\n",
    "    temp = readline()\n",
    "    temp = parse(Int64, temp)\n",
    "    push!(weights, temp)\n",
    "end\n",
    "print(knapsack(weights, values, n, w))\n",
    "\n"
   ]
  },
  {
   "cell_type": "markdown",
   "metadata": {},
   "source": [
    "# Rainwater trapping"
   ]
  },
  {
   "cell_type": "code",
   "execution_count": 4,
   "metadata": {},
   "outputs": [
    {
     "name": "stdout",
     "output_type": "stream",
     "text": [
      "Enter the length of array!\n",
      "stdin> 3\n",
      "Enter the array !\n",
      "stdin> 2\n",
      "stdin> 0\n",
      "stdin> 2\n"
     ]
    }
   ],
   "source": [
    "println(\"Enter the length of array!\")\n",
    "n = readline()\n",
    "n = parse(Int64,n)\n",
    "array = Int64[]\n",
    "println(\"Enter the array !\")\n",
    "for i in 1:n\n",
    "    temp=readline()\n",
    "    temp=parse(Int64,temp)\n",
    "    push!(array,temp)\n",
    "end"
   ]
  },
  {
   "cell_type": "code",
   "execution_count": 48,
   "metadata": {
    "scrolled": true
   },
   "outputs": [
    {
     "data": {
      "text/plain": [
       "rainWater (generic function with 1 method)"
      ]
     },
     "execution_count": 48,
     "metadata": {},
     "output_type": "execute_result"
    }
   ],
   "source": [
    "function rainWater(n,array)\n",
    "    left=zeros(n)\n",
    "left[1]=array[1]\n",
    "for i in 2:n\n",
    "    left[i]=max(left[i-1],array[i])\n",
    "end\n",
    "right=zeros(n)\n",
    "right[n]=array[n]\n",
    "for i in n-1:-1:1\n",
    "    right[i]=max(right[i+1],array[i])\n",
    "end\n",
    "total=0\n",
    "for i in 1:n\n",
    "    total+=min(left[i],right[i])-array[i]\n",
    "end\n",
    "return total\n",
    "end\n"
   ]
  },
  {
   "cell_type": "code",
   "execution_count": 49,
   "metadata": {},
   "outputs": [
    {
     "data": {
      "text/plain": [
       "3-element Array{Int64,1}:\n",
       " 2\n",
       " 0\n",
       " 2"
      ]
     },
     "execution_count": 49,
     "metadata": {},
     "output_type": "execute_result"
    }
   ],
   "source": [
    "array"
   ]
  },
  {
   "cell_type": "code",
   "execution_count": 47,
   "metadata": {},
   "outputs": [
    {
     "data": {
      "text/plain": [
       "2.0"
      ]
     },
     "execution_count": 47,
     "metadata": {},
     "output_type": "execute_result"
    }
   ],
   "source": [
    "left=zeros(n)\n",
    "left[1]=array[1]\n",
    "for i in 2:n\n",
    "    left[i]=max(left[i-1],array[i])\n",
    "end\n",
    "right=zeros(n)\n",
    "right[n]=array[n]\n",
    "for i in n-1:-1:1\n",
    "    right[i]=max(right[i+1],array[i])\n",
    "end\n",
    "total=0\n",
    "for i in 1:n\n",
    "    total+=min(left[i],right[i])-array[i]\n",
    "end\n",
    "total"
   ]
  },
  {
   "cell_type": "code",
   "execution_count": 46,
   "metadata": {},
   "outputs": [
    {
     "name": "stdout",
     "output_type": "stream",
     "text": [
      "[2.0, 2.0, 2.0][2.0, 2.0, 2.0]"
     ]
    }
   ],
   "source": [
    "print(left)\n",
    "print(right)"
   ]
  },
  {
   "cell_type": "code",
   "execution_count": 50,
   "metadata": {},
   "outputs": [
    {
     "data": {
      "text/plain": [
       "2.0"
      ]
     },
     "execution_count": 50,
     "metadata": {},
     "output_type": "execute_result"
    }
   ],
   "source": [
    "rainWater(n,array)"
   ]
  },
  {
   "cell_type": "markdown",
   "metadata": {},
   "source": [
    "# Tower of Hanoi"
   ]
  },
  {
   "cell_type": "code",
   "execution_count": 61,
   "metadata": {},
   "outputs": [
    {
     "data": {
      "text/plain": [
       "towerOfHanoi (generic function with 1 method)"
      ]
     },
     "execution_count": 61,
     "metadata": {},
     "output_type": "execute_result"
    }
   ],
   "source": [
    "function towerOfHanoi(discs,source,destination,helper)\n",
    "    if(discs==0)\n",
    "        return \n",
    "    end\n",
    "    towerOfHanoi(discs-1,source,helper,destination)\n",
    "    println(\"Move from $(source) to $(destination)\")\n",
    "    towerOfHanoi(discs-1,helper,destination,source)\n",
    "end"
   ]
  },
  {
   "cell_type": "code",
   "execution_count": 62,
   "metadata": {},
   "outputs": [
    {
     "name": "stdout",
     "output_type": "stream",
     "text": [
      "Move from A to B\n",
      "Move from A to C\n",
      "Move from B to C\n",
      "Move from A to B\n",
      "Move from C to A\n",
      "Move from C to B\n",
      "Move from A to B\n"
     ]
    }
   ],
   "source": [
    "towerOfHanoi(3,\"A\",\"B\",\"C\")"
   ]
  },
  {
   "cell_type": "markdown",
   "metadata": {},
   "source": [
    "# Coin Change DP "
   ]
  },
  {
   "cell_type": "code",
   "execution_count": 111,
   "metadata": {},
   "outputs": [
    {
     "name": "stdout",
     "output_type": "stream",
     "text": [
      "Enter the coin change you want \n",
      "stdin> 20\n",
      "Enter the number of coins \n",
      "stdin> 3\n",
      "Enter the values of the coins \n",
      "stdin> 7\n",
      "stdin> 5\n",
      "stdin> 1\n"
     ]
    }
   ],
   "source": [
    "println(\"Enter the coin change you want \")\n",
    "n =readline()\n",
    "n=parse(Int64,n)\n",
    "println(\"Enter the number of coins \")\n",
    "N=readline()\n",
    "N=parse(Int64,N)\n",
    "println(\"Enter the values of the coins \")\n",
    "coins=Int64[]\n",
    "for i in 1:N\n",
    "    temp=readline()\n",
    "    temp=parse(Int64,temp)\n",
    "    push!(coins,temp)\n",
    "end"
   ]
  },
  {
   "cell_type": "code",
   "execution_count": 148,
   "metadata": {},
   "outputs": [
    {
     "data": {
      "text/plain": [
       "minCoins (generic function with 1 method)"
      ]
     },
     "execution_count": 148,
     "metadata": {},
     "output_type": "execute_result"
    }
   ],
   "source": [
    "function minCoins(n,arr,dp)\n",
    "    if(n==0)\n",
    "        return 0\n",
    "    end\n",
    "    ans=typemax(Int64)\n",
    "    for i in 1:size(arr)[1]\n",
    "        if(n-arr[i]>=0)\n",
    "            subans=0\n",
    "            if(dp[n-arr[i]] != -1)\n",
    "                subans=dp[n-arr[i]]\n",
    "            else\n",
    "                subans=minCoins(n-arr[i],arr,dp)\n",
    "            end\n",
    "            if(subans!=typemax(Int64) && subans+1<ans)\n",
    "                ans=subans+1\n",
    "            end\n",
    "        end\n",
    "        \n",
    "    end\n",
    "    dp[n]=ans\n",
    "    return ans\n",
    "end"
   ]
  },
  {
   "cell_type": "code",
   "execution_count": 156,
   "metadata": {},
   "outputs": [
    {
     "ename": "LoadError",
     "evalue": "MethodError: no method matching OffsetArray{Float64,N,AA} where AA<:AbstractArray{Float64,N} where N(::Float64, ::UnitRange{Int64})\nClosest candidates are:\n  OffsetArray{Float64,N,AA} where AA<:AbstractArray{Float64,N} where N(!Matched::Union{Missing, Nothing, UndefInitializer}, ::Any...) where T at C:\\Users\\Prashant\\.julia\\packages\\OffsetArrays\\lli7H\\src\\OffsetArrays.jl:215",
     "output_type": "error",
     "traceback": [
      "MethodError: no method matching OffsetArray{Float64,N,AA} where AA<:AbstractArray{Float64,N} where N(::Float64, ::UnitRange{Int64})\nClosest candidates are:\n  OffsetArray{Float64,N,AA} where AA<:AbstractArray{Float64,N} where N(!Matched::Union{Missing, Nothing, UndefInitializer}, ::Any...) where T at C:\\Users\\Prashant\\.julia\\packages\\OffsetArrays\\lli7H\\src\\OffsetArrays.jl:215",
      "",
      "Stacktrace:",
      " [1] top-level scope at In[156]:2",
      " [2] include_string(::Function, ::Module, ::String, ::String) at .\\loading.jl:1091"
     ]
    }
   ],
   "source": [
    "\n",
    "dp=OffsetArray{Float64}(-1.0,0:1000)\n",
    "minCoins(n,coins,dp)"
   ]
  },
  {
   "cell_type": "code",
   "execution_count": 127,
   "metadata": {},
   "outputs": [
    {
     "data": {
      "text/plain": [
       "20"
      ]
     },
     "execution_count": 127,
     "metadata": {},
     "output_type": "execute_result"
    }
   ],
   "source": [
    "n"
   ]
  },
  {
   "cell_type": "code",
   "execution_count": 107,
   "metadata": {},
   "outputs": [
    {
     "data": {
      "text/plain": [
       "3-element Array{Int64,1}:\n",
       " 1\n",
       " 2\n",
       " 3"
      ]
     },
     "execution_count": 107,
     "metadata": {},
     "output_type": "execute_result"
    }
   ],
   "source": [
    "coins"
   ]
  },
  {
   "cell_type": "code",
   "execution_count": 151,
   "metadata": {},
   "outputs": [
    {
     "ename": "LoadError",
     "evalue": "MethodError: no method matching OffsetArray{Float64,N,AA} where AA<:AbstractArray{Float64,N} where N(::Int64, ::UnitRange{Int64})\nClosest candidates are:\n  OffsetArray{Float64,N,AA} where AA<:AbstractArray{Float64,N} where N(!Matched::Union{Missing, Nothing, UndefInitializer}, ::Any...) where T at C:\\Users\\Prashant\\.julia\\packages\\OffsetArrays\\lli7H\\src\\OffsetArrays.jl:215",
     "output_type": "error",
     "traceback": [
      "MethodError: no method matching OffsetArray{Float64,N,AA} where AA<:AbstractArray{Float64,N} where N(::Int64, ::UnitRange{Int64})\nClosest candidates are:\n  OffsetArray{Float64,N,AA} where AA<:AbstractArray{Float64,N} where N(!Matched::Union{Missing, Nothing, UndefInitializer}, ::Any...) where T at C:\\Users\\Prashant\\.julia\\packages\\OffsetArrays\\lli7H\\src\\OffsetArrays.jl:215",
      "",
      "Stacktrace:",
      " [1] top-level scope at In[151]:1",
      " [2] include_string(::Function, ::Module, ::String, ::String) at .\\loading.jl:1091"
     ]
    }
   ],
   "source": [
    "dp=OffsetArray{Float64}(1,0:1000)"
   ]
  },
  {
   "cell_type": "code",
   "execution_count": 140,
   "metadata": {},
   "outputs": [
    {
     "name": "stderr",
     "output_type": "stream",
     "text": [
      "┌ Info: Precompiling OffsetArrays [6fe1bfb0-de20-5000-8ca7-80f57d26f881]\n",
      "└ @ Base loading.jl:1278\n"
     ]
    }
   ],
   "source": [
    "using OffsetArrays\n"
   ]
  },
  {
   "cell_type": "code",
   "execution_count": 142,
   "metadata": {},
   "outputs": [
    {
     "data": {
      "text/plain": [
       "1001-element OffsetArray(::Array{Float64,1}, 0:1000) with eltype Float64 with indices 0:1000:\n",
       "  0.0\n",
       "  0.0\n",
       "  0.0\n",
       "  0.0\n",
       "  0.0\n",
       "  0.0\n",
       "  0.0\n",
       "  0.0\n",
       "  0.0\n",
       "  0.0\n",
       "  ⋮\n",
       " -2.028136923161858e180\n",
       "  1.1769372777e-314\n",
       "  0.0\n",
       " -3.7517015576001196e-298\n",
       "  0.0\n",
       " -3.7517106324804154e-298\n",
       "  0.0\n",
       "  4.912221034e-315\n",
       "  7.4072513706462e-309\n",
       "  3.524526216e-315"
      ]
     },
     "execution_count": 142,
     "metadata": {},
     "output_type": "execute_result"
    }
   ],
   "source": []
  },
  {
   "cell_type": "code",
   "execution_count": 143,
   "metadata": {},
   "outputs": [
    {
     "data": {
      "text/plain": [
       "0.0"
      ]
     },
     "execution_count": 143,
     "metadata": {},
     "output_type": "execute_result"
    }
   ],
   "source": [
    "dp[0]"
   ]
  },
  {
   "cell_type": "code",
   "execution_count": 144,
   "metadata": {},
   "outputs": [
    {
     "data": {
      "text/plain": [
       "0.0"
      ]
     },
     "execution_count": 144,
     "metadata": {},
     "output_type": "execute_result"
    }
   ],
   "source": [
    "dp[1]"
   ]
  },
  {
   "cell_type": "code",
   "execution_count": null,
   "metadata": {},
   "outputs": [],
   "source": []
  }
 ],
 "metadata": {
  "kernelspec": {
   "display_name": "Julia 1.5.3",
   "language": "julia",
   "name": "julia-1.5"
  },
  "language_info": {
   "file_extension": ".jl",
   "mimetype": "application/julia",
   "name": "julia",
   "version": "1.5.3"
  }
 },
 "nbformat": 4,
 "nbformat_minor": 4
}
